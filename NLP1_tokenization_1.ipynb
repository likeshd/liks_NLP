{
  "nbformat": 4,
  "nbformat_minor": 0,
  "metadata": {
    "colab": {
      "provenance": [],
      "authorship_tag": "ABX9TyOYC5wGlpUm3o4g46sM2HVW",
      "include_colab_link": true
    },
    "kernelspec": {
      "name": "python3",
      "display_name": "Python 3"
    },
    "language_info": {
      "name": "python"
    }
  },
  "cells": [
    {
      "cell_type": "markdown",
      "metadata": {
        "id": "view-in-github",
        "colab_type": "text"
      },
      "source": [
        "<a href=\"https://colab.research.google.com/github/likeshd/liks_NLP/blob/main/NLP1_tokenization_1.ipynb\" target=\"_parent\"><img src=\"https://colab.research.google.com/assets/colab-badge.svg\" alt=\"Open In Colab\"/></a>"
      ]
    },
    {
      "cell_type": "code",
      "execution_count": 8,
      "metadata": {
        "colab": {
          "base_uri": "https://localhost:8080/"
        },
        "id": "eSr1YZedR1y3",
        "outputId": "06051e3d-05f9-4b86-cbb7-628764eaab1a"
      },
      "outputs": [
        {
          "output_type": "stream",
          "name": "stderr",
          "text": [
            "[nltk_data] Downloading package punkt to /root/nltk_data...\n",
            "[nltk_data]   Unzipping tokenizers/punkt.zip.\n",
            "[nltk_data] Downloading package wordnet to /root/nltk_data...\n",
            "[nltk_data] Downloading package stopwords to /root/nltk_data...\n",
            "[nltk_data]   Unzipping corpora/stopwords.zip.\n",
            "[nltk_data] Downloading package averaged_perceptron_tagger to\n",
            "[nltk_data]     /root/nltk_data...\n",
            "[nltk_data]   Unzipping taggers/averaged_perceptron_tagger.zip.\n"
          ]
        },
        {
          "output_type": "execute_result",
          "data": {
            "text/plain": [
              "True"
            ]
          },
          "metadata": {},
          "execution_count": 8
        }
      ],
      "source": [
        "# Natural language tool kit(NLTK) and spacy both libraries used for NLP\n",
        "# !pip install nltk\n",
        "import nltk\n",
        "nltk.download('punkt')\n",
        "nltk.download('wordnet')\n",
        "nltk.download('stopwords')\n",
        "nltk.download('averaged_perceptron_tagger')\n"
      ]
    },
    {
      "cell_type": "markdown",
      "source": [
        "### Tokenization\n",
        "\n"
      ],
      "metadata": {
        "id": "ak-XGdFPS0Tq"
      }
    },
    {
      "cell_type": "code",
      "source": [
        "corpus = \"\"\"Hello wheather is good today? I am planning to visit Hyderabad next month.\n",
        "Naik's contains a lot of information in his videos, so please  refer it.\n",
        "\"\"\"\n",
        "corpus"
      ],
      "metadata": {
        "colab": {
          "base_uri": "https://localhost:8080/",
          "height": 53
        },
        "id": "fCQ17X7ES9p2",
        "outputId": "39319b5c-dd91-48c3-b2dd-5c2f46981f1b"
      },
      "execution_count": 14,
      "outputs": [
        {
          "output_type": "execute_result",
          "data": {
            "text/plain": [
              "\"Hello wheather is good today? I am planning to visit Hyderabad next month.\\nNaik's contains a lot of information in his videos, so please  refer it.\\n\""
            ],
            "application/vnd.google.colaboratory.intrinsic+json": {
              "type": "string"
            }
          },
          "metadata": {},
          "execution_count": 14
        }
      ]
    },
    {
      "cell_type": "code",
      "source": [
        "## Tokenisation\n",
        "## paragraphs --> sentence\n",
        "from nltk.tokenize import sent_tokenize\n"
      ],
      "metadata": {
        "id": "sSisSgI6VWfI"
      },
      "execution_count": 15,
      "outputs": []
    },
    {
      "cell_type": "code",
      "source": [
        "sentences = sent_tokenize(corpus)\n",
        "sentences"
      ],
      "metadata": {
        "colab": {
          "base_uri": "https://localhost:8080/"
        },
        "id": "ln2WWCHFVx57",
        "outputId": "de9cf0f5-740c-4d4c-dfd1-16e9c42373bb"
      },
      "execution_count": 16,
      "outputs": [
        {
          "output_type": "execute_result",
          "data": {
            "text/plain": [
              "['Hello wheather is good today?',\n",
              " 'I am planning to visit Hyderabad next month.',\n",
              " \"Naik's contains a lot of information in his videos, so please  refer it.\"]"
            ]
          },
          "metadata": {},
          "execution_count": 16
        }
      ]
    },
    {
      "cell_type": "code",
      "source": [
        "## Tokenization\n",
        "## paragraph --> words\n",
        "## sentence --> words\n",
        "from nltk.tokenize import word_tokenize\n",
        "words = word_tokenize(corpus)\n",
        "words"
      ],
      "metadata": {
        "colab": {
          "base_uri": "https://localhost:8080/"
        },
        "id": "WPmlNABfXOHK",
        "outputId": "b5a9b793-c2d0-40ca-a5d1-911b78fd2911"
      },
      "execution_count": 17,
      "outputs": [
        {
          "output_type": "execute_result",
          "data": {
            "text/plain": [
              "['Hello',\n",
              " 'wheather',\n",
              " 'is',\n",
              " 'good',\n",
              " 'today',\n",
              " '?',\n",
              " 'I',\n",
              " 'am',\n",
              " 'planning',\n",
              " 'to',\n",
              " 'visit',\n",
              " 'Hyderabad',\n",
              " 'next',\n",
              " 'month',\n",
              " '.',\n",
              " 'Naik',\n",
              " \"'s\",\n",
              " 'contains',\n",
              " 'a',\n",
              " 'lot',\n",
              " 'of',\n",
              " 'information',\n",
              " 'in',\n",
              " 'his',\n",
              " 'videos',\n",
              " ',',\n",
              " 'so',\n",
              " 'please',\n",
              " 'refer',\n",
              " 'it',\n",
              " '.']"
            ]
          },
          "metadata": {},
          "execution_count": 17
        }
      ]
    },
    {
      "cell_type": "code",
      "source": [
        "for sentence in sentences:\n",
        "    print(word_tokenize(sentence))\n",
        "    # print(sentence_tokenization(sentence"
      ],
      "metadata": {
        "colab": {
          "base_uri": "https://localhost:8080/"
        },
        "id": "pT5kXHFHXOKp",
        "outputId": "7255712c-8197-446b-c560-df105fae063f"
      },
      "execution_count": 18,
      "outputs": [
        {
          "output_type": "stream",
          "name": "stdout",
          "text": [
            "['Hello', 'wheather', 'is', 'good', 'today', '?']\n",
            "['I', 'am', 'planning', 'to', 'visit', 'Hyderabad', 'next', 'month', '.']\n",
            "['Naik', \"'s\", 'contains', 'a', 'lot', 'of', 'information', 'in', 'his', 'videos', ',', 'so', 'please', 'refer', 'it', '.']\n"
          ]
        }
      ]
    },
    {
      "cell_type": "code",
      "source": [
        "from nltk.tokenize import wordpunct_tokenize\n",
        "wordpunct_tokenize(corpus)"
      ],
      "metadata": {
        "colab": {
          "base_uri": "https://localhost:8080/"
        },
        "id": "L4UCktO4Z5d_",
        "outputId": "67384740-1a01-48f5-9ace-8a0468d3cd94"
      },
      "execution_count": 19,
      "outputs": [
        {
          "output_type": "execute_result",
          "data": {
            "text/plain": [
              "['Hello',\n",
              " 'wheather',\n",
              " 'is',\n",
              " 'good',\n",
              " 'today',\n",
              " '?',\n",
              " 'I',\n",
              " 'am',\n",
              " 'planning',\n",
              " 'to',\n",
              " 'visit',\n",
              " 'Hyderabad',\n",
              " 'next',\n",
              " 'month',\n",
              " '.',\n",
              " 'Naik',\n",
              " \"'\",\n",
              " 's',\n",
              " 'contains',\n",
              " 'a',\n",
              " 'lot',\n",
              " 'of',\n",
              " 'information',\n",
              " 'in',\n",
              " 'his',\n",
              " 'videos',\n",
              " ',',\n",
              " 'so',\n",
              " 'please',\n",
              " 'refer',\n",
              " 'it',\n",
              " '.']"
            ]
          },
          "metadata": {},
          "execution_count": 19
        }
      ]
    },
    {
      "cell_type": "code",
      "source": [
        "from nltk.tokenize import TreebankWordTokenizer\n",
        "tokenizer = TreebankWordTokenizer()\n",
        "tokenizer.tokenize(corpus)"
      ],
      "metadata": {
        "colab": {
          "base_uri": "https://localhost:8080/"
        },
        "id": "z4ZA3KBSZ5xc",
        "outputId": "005cbd58-18cd-4727-e40e-8caae782a1fb"
      },
      "execution_count": 20,
      "outputs": [
        {
          "output_type": "execute_result",
          "data": {
            "text/plain": [
              "['Hello',\n",
              " 'wheather',\n",
              " 'is',\n",
              " 'good',\n",
              " 'today',\n",
              " '?',\n",
              " 'I',\n",
              " 'am',\n",
              " 'planning',\n",
              " 'to',\n",
              " 'visit',\n",
              " 'Hyderabad',\n",
              " 'next',\n",
              " 'month.',\n",
              " 'Naik',\n",
              " \"'s\",\n",
              " 'contains',\n",
              " 'a',\n",
              " 'lot',\n",
              " 'of',\n",
              " 'information',\n",
              " 'in',\n",
              " 'his',\n",
              " 'videos',\n",
              " ',',\n",
              " 'so',\n",
              " 'please',\n",
              " 'refer',\n",
              " 'it',\n",
              " '.']"
            ]
          },
          "metadata": {},
          "execution_count": 20
        }
      ]
    }
  ]
}