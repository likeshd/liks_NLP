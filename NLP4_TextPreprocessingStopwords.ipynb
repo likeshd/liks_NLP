{
  "nbformat": 4,
  "nbformat_minor": 0,
  "metadata": {
    "colab": {
      "provenance": [],
      "authorship_tag": "ABX9TyMAd0q3G3g10OFp2I0ds0FD",
      "include_colab_link": true
    },
    "kernelspec": {
      "name": "python3",
      "display_name": "Python 3"
    },
    "language_info": {
      "name": "python"
    }
  },
  "cells": [
    {
      "cell_type": "markdown",
      "metadata": {
        "id": "view-in-github",
        "colab_type": "text"
      },
      "source": [
        "<a href=\"https://colab.research.google.com/github/likeshd/liks_NLP/blob/main/NLP4_TextPreprocessingStopwords.ipynb\" target=\"_parent\"><img src=\"https://colab.research.google.com/assets/colab-badge.svg\" alt=\"Open In Colab\"/></a>"
      ]
    },
    {
      "cell_type": "code",
      "execution_count": 2,
      "metadata": {
        "id": "_VxXFkYmWm8k"
      },
      "outputs": [],
      "source": [
        "paragraph =\"\"\"Greeting everyone. Today, I am here to deliver a speech on APJ Abdul Kalam. Dr APJ Abdul Kalam’s full name\n",
        "was Avul Pakir Zainuldeben Abdul Kalam, very few people know him by his full name as he was mostly addressed as ‘Missile Man\n",
        "of India’ and ‘People’s President’. He was born into a very poor family in Rameswaram on October 15, 1931.\n",
        "Since childhood, he enjoyed flying, and was equally curious to know how birds fly in the air? He was very intelligent and enjoyed reading,\n",
        " but his family did not have sufficient income for his school fees, so to support his education, he would wake up early in the morning and ride a bicycle 3 kilometres from home to collect newspapers and sell them.\n",
        "He was admitted to St. Joseph's College, Tiruchirapalli, and later he went on to complete a degree in physics in 1954 and then studied at the Madras Institute of Technology and graduated\n",
        "in aeronautical engineering in 1955. Since his childhood, Dr Abdul Alam wanted to be a pilot but couldn’t make his dream come true.\n",
        " He learned from his mistakes and accomplished numerous achievements in his life. After completing his degree, Abdul Kalam entered the Defense\n",
        " Department of India. He has been one of the key figures in building the nuclear capabilities of India.\n",
        "APJ Abdul Kalam was appointed to the Indian Ministry of Defense as a Technical Advisor in 1992, after which he served with DRDO and ISRO,\n",
        " the country's largest organization. Considered a national hero for successful nuclear tests in 1998, a second successful nuclear test was\n",
        " conducted in Pokhran the same year under his supervision, after which India was included in the list of nuclear-powered nations.\n",
        " Abdul Kalam has been active in all space programs and development programs in India as a scientist. For developing India's Agni missile,\n",
        "  Kalam was called 'Missile Man.'Abdul Kalam made a special technological and scientific contribution, for which, along with Bharat Ratna,\n",
        "  India's highest honour, he was awarded the Padma Bhushan, Padam Vibhushan, etc. He was also awarded an honorary doctorate by more than 30 universities\n",
        "  in the world for the same.\n",
        "In 2002, he was elected President of India and was the country's first scientist and non-political president.\n",
        "He visited many countries during his tenure as President and led India's youth through his lectures and encouraged them to move forward.\n",
        " ‘My vision for India’ was a Famous Speech of APJ Abdul Kalam delivered at IIT Hyderabad in 2011, and is to this day my favourite speech.\n",
        " His far-reaching thinking gave India's growth a fresh path and became the youth's inspiration. Dr Abdul Kalam died on July 27, 2015,\n",
        " from an apparent cardiac arrest while delivering a lecture at IIM Shillong at the age of 83. He spent his entire life in service and\n",
        " inspiration for the nation and the youth, and his death is also while addressing the youth. His death is a never-ending loss to the country.\n",
        "\"\"\""
      ]
    },
    {
      "cell_type": "code",
      "source": [
        "import nltk\n",
        "nltk.download('punkt')\n",
        "nltk.download('wordnet')\n",
        "nltk.download('stopwords')\n",
        "nltk.download('averaged_perceptron_tagger')"
      ],
      "metadata": {
        "colab": {
          "base_uri": "https://localhost:8080/"
        },
        "id": "5vs1XqjCdY8k",
        "outputId": "6f6ef9ba-f062-459c-bd88-2bed215e6d6e"
      },
      "execution_count": 1,
      "outputs": [
        {
          "output_type": "stream",
          "name": "stderr",
          "text": [
            "[nltk_data] Downloading package punkt to /root/nltk_data...\n",
            "[nltk_data]   Unzipping tokenizers/punkt.zip.\n",
            "[nltk_data] Downloading package wordnet to /root/nltk_data...\n",
            "[nltk_data] Downloading package stopwords to /root/nltk_data...\n",
            "[nltk_data]   Unzipping corpora/stopwords.zip.\n",
            "[nltk_data] Downloading package averaged_perceptron_tagger to\n",
            "[nltk_data]     /root/nltk_data...\n",
            "[nltk_data]   Unzipping taggers/averaged_perceptron_tagger.zip.\n"
          ]
        },
        {
          "output_type": "execute_result",
          "data": {
            "text/plain": [
              "True"
            ]
          },
          "metadata": {},
          "execution_count": 1
        }
      ]
    },
    {
      "cell_type": "code",
      "source": [
        "from nltk.stem import PorterStemmer\n",
        "from nltk.corpus import stopwords\n",
        "from nltk.tokenize import word_tokenize\n",
        "from nltk.stem import SnowballStemmer\n",
        "from nltk.stem import WordNetLemmatizer\n",
        "from nltk.tokenize import sent_tokenize\n"
      ],
      "metadata": {
        "id": "Wx3BU-39dfrT"
      },
      "execution_count": 3,
      "outputs": []
    },
    {
      "cell_type": "code",
      "source": [
        "stop_words = set(stopwords.words('english'))\n",
        "stop_words"
      ],
      "metadata": {
        "colab": {
          "base_uri": "https://localhost:8080/"
        },
        "id": "9UlCDdlfecRO",
        "outputId": "94b2129c-04b7-4ab2-b04d-3ce18e245df5"
      },
      "execution_count": 7,
      "outputs": [
        {
          "output_type": "execute_result",
          "data": {
            "text/plain": [
              "{'a',\n",
              " 'about',\n",
              " 'above',\n",
              " 'after',\n",
              " 'again',\n",
              " 'against',\n",
              " 'ain',\n",
              " 'all',\n",
              " 'am',\n",
              " 'an',\n",
              " 'and',\n",
              " 'any',\n",
              " 'are',\n",
              " 'aren',\n",
              " \"aren't\",\n",
              " 'as',\n",
              " 'at',\n",
              " 'be',\n",
              " 'because',\n",
              " 'been',\n",
              " 'before',\n",
              " 'being',\n",
              " 'below',\n",
              " 'between',\n",
              " 'both',\n",
              " 'but',\n",
              " 'by',\n",
              " 'can',\n",
              " 'couldn',\n",
              " \"couldn't\",\n",
              " 'd',\n",
              " 'did',\n",
              " 'didn',\n",
              " \"didn't\",\n",
              " 'do',\n",
              " 'does',\n",
              " 'doesn',\n",
              " \"doesn't\",\n",
              " 'doing',\n",
              " 'don',\n",
              " \"don't\",\n",
              " 'down',\n",
              " 'during',\n",
              " 'each',\n",
              " 'few',\n",
              " 'for',\n",
              " 'from',\n",
              " 'further',\n",
              " 'had',\n",
              " 'hadn',\n",
              " \"hadn't\",\n",
              " 'has',\n",
              " 'hasn',\n",
              " \"hasn't\",\n",
              " 'have',\n",
              " 'haven',\n",
              " \"haven't\",\n",
              " 'having',\n",
              " 'he',\n",
              " 'her',\n",
              " 'here',\n",
              " 'hers',\n",
              " 'herself',\n",
              " 'him',\n",
              " 'himself',\n",
              " 'his',\n",
              " 'how',\n",
              " 'i',\n",
              " 'if',\n",
              " 'in',\n",
              " 'into',\n",
              " 'is',\n",
              " 'isn',\n",
              " \"isn't\",\n",
              " 'it',\n",
              " \"it's\",\n",
              " 'its',\n",
              " 'itself',\n",
              " 'just',\n",
              " 'll',\n",
              " 'm',\n",
              " 'ma',\n",
              " 'me',\n",
              " 'mightn',\n",
              " \"mightn't\",\n",
              " 'more',\n",
              " 'most',\n",
              " 'mustn',\n",
              " \"mustn't\",\n",
              " 'my',\n",
              " 'myself',\n",
              " 'needn',\n",
              " \"needn't\",\n",
              " 'no',\n",
              " 'nor',\n",
              " 'not',\n",
              " 'now',\n",
              " 'o',\n",
              " 'of',\n",
              " 'off',\n",
              " 'on',\n",
              " 'once',\n",
              " 'only',\n",
              " 'or',\n",
              " 'other',\n",
              " 'our',\n",
              " 'ours',\n",
              " 'ourselves',\n",
              " 'out',\n",
              " 'over',\n",
              " 'own',\n",
              " 're',\n",
              " 's',\n",
              " 'same',\n",
              " 'shan',\n",
              " \"shan't\",\n",
              " 'she',\n",
              " \"she's\",\n",
              " 'should',\n",
              " \"should've\",\n",
              " 'shouldn',\n",
              " \"shouldn't\",\n",
              " 'so',\n",
              " 'some',\n",
              " 'such',\n",
              " 't',\n",
              " 'than',\n",
              " 'that',\n",
              " \"that'll\",\n",
              " 'the',\n",
              " 'their',\n",
              " 'theirs',\n",
              " 'them',\n",
              " 'themselves',\n",
              " 'then',\n",
              " 'there',\n",
              " 'these',\n",
              " 'they',\n",
              " 'this',\n",
              " 'those',\n",
              " 'through',\n",
              " 'to',\n",
              " 'too',\n",
              " 'under',\n",
              " 'until',\n",
              " 'up',\n",
              " 've',\n",
              " 'very',\n",
              " 'was',\n",
              " 'wasn',\n",
              " \"wasn't\",\n",
              " 'we',\n",
              " 'were',\n",
              " 'weren',\n",
              " \"weren't\",\n",
              " 'what',\n",
              " 'when',\n",
              " 'where',\n",
              " 'which',\n",
              " 'while',\n",
              " 'who',\n",
              " 'whom',\n",
              " 'why',\n",
              " 'will',\n",
              " 'with',\n",
              " 'won',\n",
              " \"won't\",\n",
              " 'wouldn',\n",
              " \"wouldn't\",\n",
              " 'y',\n",
              " 'you',\n",
              " \"you'd\",\n",
              " \"you'll\",\n",
              " \"you're\",\n",
              " \"you've\",\n",
              " 'your',\n",
              " 'yours',\n",
              " 'yourself',\n",
              " 'yourselves'}"
            ]
          },
          "metadata": {},
          "execution_count": 7
        }
      ]
    },
    {
      "cell_type": "code",
      "source": [
        "sentences = sent_tokenize(paragraph)\n",
        "sentences"
      ],
      "metadata": {
        "colab": {
          "base_uri": "https://localhost:8080/"
        },
        "id": "7TmhMr8fezA-",
        "outputId": "98ab5b24-dc84-47fb-dccf-58ffc68f8dbd"
      },
      "execution_count": 26,
      "outputs": [
        {
          "output_type": "execute_result",
          "data": {
            "text/plain": [
              "['Greeting everyone.',\n",
              " 'Today, I am here to deliver a speech on APJ Abdul Kalam.',\n",
              " 'Dr APJ Abdul Kalam’s full name \\nwas Avul Pakir Zainuldeben Abdul Kalam, very few people know him by his full name as he was mostly addressed as ‘Missile Man \\nof India’ and ‘People’s President’.',\n",
              " 'He was born into a very poor family in Rameswaram on October 15, 1931.',\n",
              " 'Since childhood, he enjoyed flying, and was equally curious to know how birds fly in the air?',\n",
              " 'He was very intelligent and enjoyed reading,\\n but his family did not have sufficient income for his school fees, so to support his education, he would wake up early in the morning and ride a bicycle 3 kilometres from home to collect newspapers and sell them.',\n",
              " \"He was admitted to St. Joseph's College, Tiruchirapalli, and later he went on to complete a degree in physics in 1954 and then studied at the Madras Institute of Technology and graduated \\nin aeronautical engineering in 1955.\",\n",
              " 'Since his childhood, Dr Abdul Alam wanted to be a pilot but couldn’t make his dream come true.',\n",
              " 'He learned from his mistakes and accomplished numerous achievements in his life.',\n",
              " 'After completing his degree, Abdul Kalam entered the Defense \\n Department of India.',\n",
              " 'He has been one of the key figures in building the nuclear capabilities of India.',\n",
              " \"APJ Abdul Kalam was appointed to the Indian Ministry of Defense as a Technical Advisor in 1992, after which he served with DRDO and ISRO,\\n the country's largest organization.\",\n",
              " 'Considered a national hero for successful nuclear tests in 1998, a second successful nuclear test was \\n conducted in Pokhran the same year under his supervision, after which India was included in the list of nuclear-powered nations.',\n",
              " 'Abdul Kalam has been active in all space programs and development programs in India as a scientist.',\n",
              " \"For developing India's Agni missile,\\n  Kalam was called 'Missile Man.\",\n",
              " \"'Abdul Kalam made a special technological and scientific contribution, for which, along with Bharat Ratna, \\n  India's highest honour, he was awarded the Padma Bhushan, Padam Vibhushan, etc.\",\n",
              " 'He was also awarded an honorary doctorate by more than 30 universities \\n  in the world for the same.',\n",
              " \"In 2002, he was elected President of India and was the country's first scientist and non-political president.\",\n",
              " \"He visited many countries during his tenure as President and led India's youth through his lectures and encouraged them to move forward.\",\n",
              " '‘My vision for India’ was a Famous Speech of APJ Abdul Kalam delivered at IIT Hyderabad in 2011, and is to this day my favourite speech.',\n",
              " \"His far-reaching thinking gave India's growth a fresh path and became the youth's inspiration.\",\n",
              " 'Dr Abdul Kalam died on July 27, 2015, \\n from an apparent cardiac arrest while delivering a lecture at IIM Shillong at the age of 83.',\n",
              " 'He spent his entire life in service and \\n inspiration for the nation and the youth, and his death is also while addressing the youth.',\n",
              " 'His death is a never-ending loss to the country.']"
            ]
          },
          "metadata": {},
          "execution_count": 26
        }
      ]
    },
    {
      "cell_type": "code",
      "source": [
        "stemmer = PorterStemmer()\n"
      ],
      "metadata": {
        "id": "cLDBVu6Lezok"
      },
      "execution_count": 9,
      "outputs": []
    },
    {
      "cell_type": "code",
      "source": [
        "## apply Stopwords and filter and then apply stemming\n",
        "for i in range(len(sentences)):\n",
        "    words = nltk.word_tokenize(sentences[i])\n",
        "    words = [stemmer.stem(word) for word in words if word not in set(stopwords.words('english'))]\n",
        "    sentences[i] = ' '.join(words) ## converting all the list of words into sentences\n",
        "\n"
      ],
      "metadata": {
        "id": "YCeAORzwgRv5"
      },
      "execution_count": 11,
      "outputs": []
    },
    {
      "cell_type": "code",
      "source": [
        "sentences"
      ],
      "metadata": {
        "colab": {
          "base_uri": "https://localhost:8080/"
        },
        "id": "0BmNdIlVgRyd",
        "outputId": "7ec1e0ea-35c9-402b-ef9d-47790596d6ad"
      },
      "execution_count": 13,
      "outputs": [
        {
          "output_type": "execute_result",
          "data": {
            "text/plain": [
              "['greet everyon .',\n",
              " 'today , i deliv speech apj abdul kalam .',\n",
              " 'dr apj abdul kalam ’ full name avul pakir zainuldeben abdul kalam , peopl know full name mostli address ‘ missil man india ’ ‘ peopl ’ presid ’ .',\n",
              " 'he born poor famili rameswaram octob 15 , 1931 .',\n",
              " 'sinc childhood , enjoy fli , equal curiou know bird fli air ?',\n",
              " 'he intellig enjoy read , famili suffici incom school fee , support educ , would wake earli morn ride bicycl 3 kilometr home collect newspap sell .',\n",
              " \"he admit st. joseph 's colleg , tiruchirap , later went complet degre physic 1954 studi madra institut technolog graduat aeronaut engin 1955 .\",\n",
              " 'sinc childhood , dr abdul alam want pilot ’ make dream come true .',\n",
              " 'he learn mistak accomplish numer achiev life .',\n",
              " 'after complet degre , abdul kalam enter defens depart india .',\n",
              " 'he one key figur build nuclear capabl india .',\n",
              " \"apj abdul kalam appoint indian ministri defens technic advisor 1992 , serv drdo isro , countri 's largest organ .\",\n",
              " 'consid nation hero success nuclear test 1998 , second success nuclear test conduct pokhran year supervis , india includ list nuclear-pow nation .',\n",
              " 'abdul kalam activ space program develop program india scientist .',\n",
              " \"for develop india 's agni missil , kalam call 'missil man .\",\n",
              " \"'abdul kalam made special technolog scientif contribut , , along bharat ratna , india 's highest honour , award padma bhushan , padam vibhushan , etc .\",\n",
              " 'he also award honorari doctor 30 univers world .',\n",
              " \"in 2002 , elect presid india countri 's first scientist non-polit presid .\",\n",
              " \"he visit mani countri tenur presid led india 's youth lectur encourag move forward .\",\n",
              " '‘ my vision india ’ famou speech apj abdul kalam deliv iit hyderabad 2011 , day favourit speech .',\n",
              " \"hi far-reach think gave india 's growth fresh path becam youth 's inspir .\",\n",
              " 'dr abdul kalam die juli 27 , 2015 , appar cardiac arrest deliv lectur iim shillong age 83 .',\n",
              " 'he spent entir life servic inspir nation youth , death also address youth .',\n",
              " 'hi death never-end loss countri .']"
            ]
          },
          "metadata": {},
          "execution_count": 13
        }
      ]
    },
    {
      "cell_type": "code",
      "source": [
        "## apply Stopwords and filter and then apply snowball stemming\n",
        "\n",
        "snow_ball = SnowballStemmer('english')\n",
        "\n",
        "for i in range(len(sentences)):\n",
        "    words = nltk.word_tokenize(sentences[i])\n",
        "    words = [snow_ball.stem(word) for word in words if word not in set(stopwords.words('english'))]\n",
        "    sentences[i] = ' '.join(words)"
      ],
      "metadata": {
        "id": "sALdSCrFgR1F"
      },
      "execution_count": 15,
      "outputs": []
    },
    {
      "cell_type": "code",
      "source": [
        "sentences"
      ],
      "metadata": {
        "colab": {
          "base_uri": "https://localhost:8080/"
        },
        "id": "0Hls1GTagR4e",
        "outputId": "c4776c3a-43c4-4f62-edd8-2148a1c9067f"
      },
      "execution_count": 16,
      "outputs": [
        {
          "output_type": "execute_result",
          "data": {
            "text/plain": [
              "['greet everyon .',\n",
              " 'today , i deliv speech apj abdul kalam .',\n",
              " 'dr apj abdul kalam ’ full name avul pakir zainuldeben abdul kalam , peopl know full name most address ‘ missil man india ’ ‘ peopl ’ presid ’ .',\n",
              " 'he born poor famili rameswaram octob 15 , 1931 .',\n",
              " 'sinc childhood , enjoy fli , equal curious know bird fli air ?',\n",
              " 'he intellig enjoy read , famili suffici incom school fee , support educ , would wake earli morn ride bicycl 3 kilometr home collect newspap sell .',\n",
              " \"he admit st. joseph 's colleg , tiruchirap , later went complet degre physic 1954 studi madra institut technolog graduat aeronaut engin 1955 .\",\n",
              " 'sinc childhood , dr abdul alam want pilot ’ make dream come true .',\n",
              " 'he learn mistak accomplish numer achiev life .',\n",
              " 'after complet degre , abdul kalam enter defens depart india .',\n",
              " 'he one key figur build nuclear capabl india .',\n",
              " \"apj abdul kalam appoint indian ministri defens technic advisor 1992 , serv drdo isro , countri 's largest organ .\",\n",
              " 'consid nation hero success nuclear test 1998 , second success nuclear test conduct pokhran year supervis , india includ list nuclear-pow nation .',\n",
              " 'abdul kalam activ space program develop program india scientist .',\n",
              " \"for develop india 's agni missil , kalam call missil man .\",\n",
              " \"abdul kalam made special technolog scientif contribut , , along bharat ratna , india 's highest honour , award padma bhushan , padam vibhushan , etc .\",\n",
              " 'he also award honorari doctor 30 univers world .',\n",
              " \"in 2002 , elect presid india countri 's first scientist non-polit presid .\",\n",
              " \"he visit mani countri tenur presid led india 's youth lectur encourag move forward .\",\n",
              " '‘ my vision india ’ famous speech apj abdul kalam deliv iit hyderabad 2011 , day favourit speech .',\n",
              " \"his far-reach think gave india 's growth fresh path becam youth 's inspir .\",\n",
              " 'dr abdul kalam die juli 27 , 2015 , appar cardiac arrest deliv lectur iim shillong age 83 .',\n",
              " 'he spent entir life servic inspir nation youth , death also address youth .',\n",
              " 'his death never-end loss countri .']"
            ]
          },
          "metadata": {},
          "execution_count": 16
        }
      ]
    },
    {
      "cell_type": "code",
      "source": [
        "## apply Stopwords and filter and then apply lematization\n",
        "lematizer = WordNetLemmatizer()\n",
        "for i in range(len(sentences)):\n",
        "    words = nltk.word_tokenize(sentences[i])\n",
        "    words = [lematizer.lemmatize(word.lower(), pos= 'v') for word in words if word not in set(stopwords.words('english'))]\n",
        "    sentences[i] = ' '.join(words) ## converting all the list of words into sentences\n"
      ],
      "metadata": {
        "id": "EWo5bHxeezrN"
      },
      "execution_count": 27,
      "outputs": []
    },
    {
      "cell_type": "code",
      "source": [
        "sentences"
      ],
      "metadata": {
        "colab": {
          "base_uri": "https://localhost:8080/"
        },
        "id": "uQAUqgXUezum",
        "outputId": "0f29bf89-8b0c-4064-f873-11e86e61b7fa"
      },
      "execution_count": 28,
      "outputs": [
        {
          "output_type": "execute_result",
          "data": {
            "text/plain": [
              "['greet everyone .',\n",
              " 'today , i deliver speech apj abdul kalam .',\n",
              " 'dr apj abdul kalam ’ full name avul pakir zainuldeben abdul kalam , people know full name mostly address ‘ missile man india ’ ‘ people ’ president ’ .',\n",
              " 'he bear poor family rameswaram october 15 , 1931 .',\n",
              " 'since childhood , enjoy fly , equally curious know bird fly air ?',\n",
              " 'he intelligent enjoy read , family sufficient income school fee , support education , would wake early morning ride bicycle 3 kilometres home collect newspapers sell .',\n",
              " \"he admit st. joseph 's college , tiruchirapalli , later go complete degree physics 1954 study madras institute technology graduate aeronautical engineer 1955 .\",\n",
              " 'since childhood , dr abdul alam want pilot ’ make dream come true .',\n",
              " 'he learn mistake accomplish numerous achievements life .',\n",
              " 'after complete degree , abdul kalam enter defense department india .',\n",
              " 'he one key figure build nuclear capabilities india .',\n",
              " \"apj abdul kalam appoint indian ministry defense technical advisor 1992 , serve drdo isro , country 's largest organization .\",\n",
              " 'consider national hero successful nuclear test 1998 , second successful nuclear test conduct pokhran year supervision , india include list nuclear-powered nations .',\n",
              " 'abdul kalam active space program development program india scientist .',\n",
              " \"for develop india 's agni missile , kalam call 'missile man .\",\n",
              " \"'abdul kalam make special technological scientific contribution , , along bharat ratna , india 's highest honour , award padma bhushan , padam vibhushan , etc .\",\n",
              " 'he also award honorary doctorate 30 universities world .',\n",
              " \"in 2002 , elect president india country 's first scientist non-political president .\",\n",
              " \"he visit many countries tenure president lead india 's youth lecture encourage move forward .\",\n",
              " '‘ my vision india ’ famous speech apj abdul kalam deliver iit hyderabad 2011 , day favourite speech .',\n",
              " \"his far-reaching think give india 's growth fresh path become youth 's inspiration .\",\n",
              " 'dr abdul kalam die july 27 , 2015 , apparent cardiac arrest deliver lecture iim shillong age 83 .',\n",
              " 'he spend entire life service inspiration nation youth , death also address youth .',\n",
              " 'his death never-ending loss country .']"
            ]
          },
          "metadata": {},
          "execution_count": 28
        }
      ]
    },
    {
      "cell_type": "code",
      "source": [],
      "metadata": {
        "id": "4VR0lbnFjmVo"
      },
      "execution_count": null,
      "outputs": []
    },
    {
      "cell_type": "code",
      "source": [],
      "metadata": {
        "id": "3lJQMpZpej7H"
      },
      "execution_count": null,
      "outputs": []
    },
    {
      "cell_type": "code",
      "source": [],
      "metadata": {
        "id": "tt3zEjOtej9u"
      },
      "execution_count": null,
      "outputs": []
    },
    {
      "cell_type": "code",
      "source": [],
      "metadata": {
        "id": "iVMznadMekBR"
      },
      "execution_count": null,
      "outputs": []
    }
  ]
}